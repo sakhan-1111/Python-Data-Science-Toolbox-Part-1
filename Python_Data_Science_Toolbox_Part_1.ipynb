{
 "cells": [
  {
   "cell_type": "markdown",
   "id": "228e5430",
   "metadata": {},
   "source": [
    "# 1 Writing your own functions\n",
    "\n",
    "In this chapter, you'll learn how to write simple functions, as well as functions that accept multiple arguments and return multiple values. You'll also have the opportunity to apply these new skills to questions commonly encountered by data scientists."
   ]
  },
  {
   "cell_type": "markdown",
   "id": "693c628c",
   "metadata": {},
   "source": [
    "## 1.1 User-defined functions"
   ]
  },
  {
   "cell_type": "markdown",
   "id": "53b7c37f",
   "metadata": {},
   "source": [
    "## 1.2 Strings in Python\n",
    "\n",
    "In the video, you learned of another standard Python datatype, **strings**. Recall that these represent textual data. To assign the string `'DataCamp'` to a variable `company`, you execute:\n",
    "\n",
    "```python\n",
    "company = 'DataCamp'\n",
    "```\n",
    "\n",
    "You've also learned to use the operations `+` and `*` with strings. Unlike with numeric types such as ints and floats, the `+` operator *concatenates* strings together, while the `*` concatenates multiple copies of a string together. In this exercise, you will use the `+` and `*` operations on strings to answer the question below. Execute the following code in the shell:\n",
    "\n",
    "```python\n",
    "object1 = \"data\" + \"analysis\" + \"visualization\"\n",
    "object2 = 1 * 3\n",
    "object3 = \"1\" * 3\n",
    "```\n",
    "\n",
    "What are the values in `object1`, `object2`, and `object3`, respectively?"
   ]
  },
  {
   "cell_type": "markdown",
   "id": "6174e783",
   "metadata": {},
   "source": [
    "### 1.2.1 Instructions\n",
    "\n",
    "- [ ] `object1` contains `\"data + analysis + visualization\"`, `object2` contains `\"1*3\"`, `object3` contains `13`.\n",
    "\n",
    "\n",
    "- [ ] `object1` contains `\"data+analysis+visualization\"`, `object2` contains `3`, `object3` contains `\"13\"`.\n",
    "\n",
    "\n",
    "- [x] `object1` contains `\"dataanalysisvisualization\"`, `object2` contains `3`, `object3` contains `\"111\"`.\n"
   ]
  },
  {
   "cell_type": "markdown",
   "id": "93679d98",
   "metadata": {},
   "source": [
    "## 1.3 Recapping built-in functions\n",
    "\n",
    "In the video, Hugo briefly examined the return behavior of the built-in functions `print()` and `str()`. Here, you will use both functions and examine their return values. A variable `x` has been preloaded for this exercise. Run the code below in the console. Pay close attention to the results to answer the question that follows.\n",
    "\n",
    "- Assign `str(x)` to a variable `y1`: `y1 = str(x)`\n",
    "- Assign `print(x)` to a variable `y2`: `y2 = print(x)`\n",
    "- Check the types of the variables `x`, `y1`, and `y2`.\n",
    "\n",
    "What are the types of `x`, `y1`, and `y2`?"
   ]
  },
  {
   "cell_type": "markdown",
   "id": "6ee7c02c",
   "metadata": {},
   "source": [
    "### 1.3.1 Instructions\n",
    "\n",
    "- [ ] They are all `str` types.\n",
    "\n",
    "\n",
    "- [ ] `x` is a `float`, `y1` is an `float`, and `y2` is a `str`.\n",
    "\n",
    "\n",
    "- [x] `x` is a `float`, `y1` is a `str`, and `y2` is a `NoneType`.\n",
    "\n",
    "\n",
    "- [ ] They are all `NoneType` types."
   ]
  },
  {
   "cell_type": "markdown",
   "id": "5c9ff20e",
   "metadata": {},
   "source": [
    "## 1.4 Write a simple function\n",
    "\n",
    "In the last video, Hugo described the basics of how to define a function. You will now write your own function!\n",
    "\n",
    "Define a function, `shout()`, which simply prints out a string with three exclamation marks `'!!!'` at the end. The code for the `square()` function that we wrote earlier is found below. You can use it as a pattern to define `shout()`.\n",
    "\n",
    "```python\n",
    "def square():\n",
    "    new_value = 4 ** 2\n",
    "    return new_value\n",
    "```\n",
    "\n",
    "Note that the function body is indented 4 spaces already for you. Function bodies need to be indented by a consistent number of spaces and the choice of 4 is common.\n",
    "\n",
    "*This course touches on a lot of concepts you may have forgotten, so if you ever need a quick refresher, download the [Python for Data Science Cheat Sheet](https://datacamp-community-prod.s3.amazonaws.com/0eff0330-e87d-4c34-88d5-73e80cb955f2) and keep it handy!*"
   ]
  },
  {
   "cell_type": "markdown",
   "id": "8d64bdb7",
   "metadata": {},
   "source": [
    "### 1.4.1 Instructions\n",
    "\n",
    "- Complete the function header by adding the appropriate function name, `shout`.\n",
    "- In the function body, **concatenate** the string, `'congratulations'` with another string, `'!!!'`. Assign the result to `shout_word`.\n",
    "- Print the value of `shout_word`.\n",
    "- Call the `shout` function."
   ]
  },
  {
   "cell_type": "code",
   "execution_count": 1,
   "id": "78048b5d",
   "metadata": {},
   "outputs": [
    {
     "name": "stdout",
     "output_type": "stream",
     "text": [
      "congratulations!!!\n"
     ]
    }
   ],
   "source": [
    "# Define the function shout\n",
    "def shout():\n",
    "    \"\"\"Print a string with three exclamation marks\"\"\"\n",
    "    # Concatenate the strings: shout_word\n",
    "    shout_word = 'congratulations' + '!!!'\n",
    "\n",
    "    # Print shout_word\n",
    "    print(shout_word)\n",
    "\n",
    "# Call shout\n",
    "shout()"
   ]
  },
  {
   "cell_type": "markdown",
   "id": "49bb815f",
   "metadata": {},
   "source": [
    "## 1.5 Single-parameter functions\n",
    "\n",
    "Congratulations! You have successfully defined *and* called your own function! That's pretty cool.\n",
    "\n",
    "In the previous exercise, you defined and called the function `shout()`, which printed out a string concatenated with `'!!!'`. You will now update `shout()` by adding a *parameter* so that it can accept and process any string *argument* passed to it. Also note that `shout(word)`, the part of the *header* that specifies the function name and parameter(s), is known as the *signature* of the function. You may encounter this term in the wild!"
   ]
  },
  {
   "cell_type": "markdown",
   "id": "dc27217c",
   "metadata": {},
   "source": [
    "### 1.5.1 Instructions\n",
    "\n",
    "- Complete the function header by adding the parameter name, `word`.\n",
    "- Assign the result of concatenating `word` with `'!!!'` to `shout_word`.\n",
    "- Print the value of `shout_word`.\n",
    "- Call the `shout()` function, passing to it the string, `'congratulations'`."
   ]
  },
  {
   "cell_type": "code",
   "execution_count": 2,
   "id": "4d671828",
   "metadata": {},
   "outputs": [
    {
     "name": "stdout",
     "output_type": "stream",
     "text": [
      "congratulations!!!\n"
     ]
    }
   ],
   "source": [
    "# Define shout with the parameter, word\n",
    "def shout(word):\n",
    "    \"\"\"Print a string with three exclamation marks\"\"\"\n",
    "    # Concatenate the strings: shout_word\n",
    "    shout_word = word + '!!!'\n",
    "\n",
    "    # Print shout_word\n",
    "    print(shout_word)\n",
    "\n",
    "# Call shout with the string 'congratulations'\n",
    "shout('congratulations')"
   ]
  },
  {
   "cell_type": "markdown",
   "id": "f5ecfb63",
   "metadata": {},
   "source": [
    "## 1.6 Functions that return single values\n",
    "\n",
    "You're getting very good at this! Try your hand at another modification to the `shout()` function so that it now *returns* a single value instead of printing within the function. Recall that the `return` keyword lets you return values from functions. Parts of the function `shout()`, which you wrote earlier, are shown. Returning values is generally more desirable than printing them out because, as you saw earlier, a `print()` call assigned to a variable has type `NoneType`."
   ]
  },
  {
   "cell_type": "markdown",
   "id": "e21267a6",
   "metadata": {},
   "source": [
    "### 1.6.1 Instructions\n",
    "\n",
    "- In the function body, concatenate the string in `word` with `'!!!'` and assign to `shout_word`.\n",
    "- Replace the `print()` statement with the appropriate `return` statement.\n",
    "- Call the `shout()` function, passing to it the string, `'congratulations'`, and assigning the call to the variable, `yell`.\n",
    "- To check if `yell` contains the value returned by `shout()`, print the value of `yell`."
   ]
  },
  {
   "cell_type": "code",
   "execution_count": 3,
   "id": "1171aca7",
   "metadata": {},
   "outputs": [
    {
     "name": "stdout",
     "output_type": "stream",
     "text": [
      "congratulations!!!\n"
     ]
    }
   ],
   "source": [
    "# Define shout with the parameter, word\n",
    "def shout(word):\n",
    "    \"\"\"Return a string with three exclamation marks\"\"\"\n",
    "    # Concatenate the strings: shout_word\n",
    "    shout_word = word + '!!!'\n",
    "\n",
    "    # Replace print with return\n",
    "    return shout_word\n",
    "\n",
    "# Pass 'congratulations' to shout: yell\n",
    "yell = shout('congratulations')\n",
    "\n",
    "# Print yell\n",
    "print(yell)"
   ]
  },
  {
   "cell_type": "markdown",
   "id": "98d5149c",
   "metadata": {},
   "source": [
    "## 1.7 Multiple parameters and return values"
   ]
  },
  {
   "cell_type": "markdown",
   "id": "187a95b2",
   "metadata": {},
   "source": [
    "## 1.8 Functions with multiple parameters\n",
    "\n",
    "Hugo discussed the use of multiple parameters in defining functions in the last lecture. You are now going to use what you've learned to modify the `shout()` function further. Here, you will modify `shout()` to accept two arguments. Parts of the function `shout()`, which you wrote earlier, are shown."
   ]
  },
  {
   "cell_type": "markdown",
   "id": "c086c085",
   "metadata": {},
   "source": [
    "### 1.8.1 Instructions\n",
    "\n",
    "- Modify the function header such that it accepts two parameters, `word1` and `word2`, in that order.\n",
    "- Concatenate each of `word1` and `word2` with `'!!!'` and assign to `shout1` and `shout2`, respectively.\n",
    "- Concatenate `shout1` and `shout2` together, in that order, and assign to `new_shout`.\n",
    "- Pass the strings `'congratulations'` and `'you'`, in that order, to a call to `shout()`. Assign the return value to `yell`."
   ]
  },
  {
   "cell_type": "code",
   "execution_count": 4,
   "id": "1507b9d4",
   "metadata": {},
   "outputs": [
    {
     "name": "stdout",
     "output_type": "stream",
     "text": [
      "congratulations!!!you!!!\n"
     ]
    }
   ],
   "source": [
    "# Define shout with parameters word1 and word2\n",
    "def shout(word1, word2):\n",
    "    \"\"\"Concatenate strings with three exclamation marks\"\"\"\n",
    "    # Concatenate word1 with '!!!': shout1\n",
    "    shout1 = word1 + '!!!'\n",
    "    \n",
    "    # Concatenate word2 with '!!!': shout2\n",
    "    shout2 = word2 + '!!!' \n",
    "    \n",
    "    # Concatenate shout1 with shout2: new_shout\n",
    "    new_shout = shout1 + shout2\n",
    "\n",
    "    # Return new_shout\n",
    "    return new_shout\n",
    "\n",
    "# Pass 'congratulations' and 'you' to shout(): yell\n",
    "yell = shout('congratulations', 'you')\n",
    "\n",
    "# Print yell\n",
    "print(yell)"
   ]
  },
  {
   "cell_type": "markdown",
   "id": "ab166dd5",
   "metadata": {},
   "source": [
    "## 1.9 A brief introduction to tuples\n",
    "\n",
    "Alongside learning about functions, you've also learned about tuples! Here, you will practice what you've learned about tuples: how to construct, unpack, and access tuple elements. Recall how Hugo unpacked the tuple `even_nums` in the video:\n",
    "\n",
    "`a, b, c = even_nums`\n",
    "\n",
    "A three-element tuple named `nums` has been preloaded for this exercise. Before completing the script, perform the following:\n",
    "\n",
    "- Print out the value of `nums` in the IPython shell. Note the elements in the tuple.\n",
    "- In the IPython shell, try to change the first element of `nums` to the value *2* by doing an assignment: `nums[0] = 2`. What happens?"
   ]
  },
  {
   "cell_type": "code",
   "execution_count": 5,
   "id": "f92a64e9",
   "metadata": {},
   "outputs": [],
   "source": [
    "nums = (3, 4, 6)"
   ]
  },
  {
   "cell_type": "markdown",
   "id": "b96f4606",
   "metadata": {},
   "source": [
    "### 1.9.1 Instructions\n",
    "\n",
    "- Unpack `nums` to the variables `num1`, `num2`, and `num3`.\n",
    "- Construct a new tuple, `even_nums` composed of the same elements in `nums`, but with the 1st element replaced with the value, *2*."
   ]
  },
  {
   "cell_type": "code",
   "execution_count": 6,
   "id": "d2ead196",
   "metadata": {},
   "outputs": [],
   "source": [
    "# Unpack nums into num1, num2, and num3\n",
    "num1, num2, num3 = nums\n",
    "\n",
    "# Construct even_nums\n",
    "even_nums = (2, num2, num3)"
   ]
  },
  {
   "cell_type": "markdown",
   "id": "86348602",
   "metadata": {},
   "source": [
    "## 1.10 Functions that return multiple values\n",
    "\n",
    "In the previous exercise, you constructed tuples, assigned tuples to variables, and unpacked tuples. Here you will return multiple values from a function using tuples. Let's now update our `shout()` function to return multiple values. Instead of returning just one string, we will return two strings with the string `!!!` concatenated to each.\n",
    "\n",
    "Note that the return statement `return x, y` has the same result as `return (x, y)`: the former actually packs `x` and `y` into a tuple under the hood!"
   ]
  },
  {
   "cell_type": "markdown",
   "id": "06abbcc1",
   "metadata": {},
   "source": [
    "### 1.10.1 Instructions\n",
    "\n",
    "- Modify the function header such that the function name is now `shout_all`, and it accepts two parameters, `word1` and `word2`, in that order.\n",
    "- Concatenate the string `'!!!'` to each of `word1` and `word2` and assign to `shout1` and `shout2`, respectively.\n",
    "- Construct a tuple `shout_words`, composed of `shout1` and `shout2`.\n",
    "- Call `shout_all()` with the strings `'congratulations'` and `'you'` and assign the result to `yell1` and `yell2` (remember, `shout_all()` returns 2 variables!)."
   ]
  },
  {
   "cell_type": "code",
   "execution_count": 7,
   "id": "fdcccfe3",
   "metadata": {},
   "outputs": [
    {
     "name": "stdout",
     "output_type": "stream",
     "text": [
      "congratulations!!!\n",
      "you!!!\n"
     ]
    }
   ],
   "source": [
    "# Define shout_all with parameters word1 and word2\n",
    "def shout_all(word1, word2):\n",
    "    \n",
    "    # Concatenate word1 with '!!!': shout1\n",
    "    shout1 = word1 + '!!!'\n",
    "    \n",
    "    # Concatenate word2 with '!!!': shout2\n",
    "    shout2 = word2 + '!!!'\n",
    "    \n",
    "    # Construct a tuple with shout1 and shout2: shout_words\n",
    "    shout_words = (shout1, shout2)\n",
    "\n",
    "    # Return shout_words\n",
    "    return shout_words\n",
    "\n",
    "# Pass 'congratulations' and 'you' to shout_all(): yell1, yell2\n",
    "yell1, yell2 = shout_all('congratulations', 'you')\n",
    "\n",
    "# Print yell1 and yell2\n",
    "print(yell1)\n",
    "print(yell2)"
   ]
  },
  {
   "cell_type": "markdown",
   "id": "67bb996c",
   "metadata": {},
   "source": [
    "## 1.11 Bringing it all together"
   ]
  },
  {
   "cell_type": "markdown",
   "id": "f7654f75",
   "metadata": {},
   "source": [
    "## 1.12 Bringing it all together (1)\n",
    "\n",
    "You've got your first taste of writing your own functions in the previous exercises. You've learned how to add parameters to your own function definitions, return a value or multiple values with tuples, and how to call the functions you've defined.\n",
    "\n",
    "In this and the following exercise, you will bring together all these concepts and apply them to a simple data science problem. You will load a dataset and develop functionalities to extract simple insights from the data.\n",
    "\n",
    "For this exercise, your goal is to recall how to load a dataset into a DataFrame. The dataset contains Twitter data and you will iterate over entries in a column to build a dictionary in which the keys are the names of languages and the values are the number of tweets in the given language. The file `tweets.csv` is available in your current directory.\n",
    "\n",
    "*Be aware that this is real data from Twitter and as such there is always a risk that it may contain profanity or other offensive content (in this exercise, and any following exercises that also use real Twitter data).*"
   ]
  },
  {
   "cell_type": "markdown",
   "id": "6b712479",
   "metadata": {},
   "source": [
    "### 1.12.1 Instructions\n",
    "\n",
    "- Import the pandas package with the alias `pd`.\n",
    "- Import the file `'tweets.csv'` using the pandas function `read_csv()`. Assign the resulting DataFrame to `df`.\n",
    "- Complete the `for` loop by iterating over `col`, the `'lang'` column in the DataFrame `df`.\n",
    "- Complete the bodies of the `if-else` statements in the for loop: **if** the key is in the dictionary `langs_count`, add `1` to the value corresponding to this key in the dictionary, **else** add the key to `langs_count` and set the corresponding value to `1`. Use the loop variable `entry` in your code."
   ]
  },
  {
   "cell_type": "code",
   "execution_count": 8,
   "id": "e861a670",
   "metadata": {},
   "outputs": [
    {
     "name": "stdout",
     "output_type": "stream",
     "text": [
      "{'en': 97, 'et': 1, 'und': 2}\n"
     ]
    }
   ],
   "source": [
    "# Import pandas\n",
    "import pandas as pd\n",
    "\n",
    "# Import Twitter data as DataFrame: df\n",
    "df = pd.read_csv('datasets/tweets.csv')\n",
    "\n",
    "# Initialize an empty dictionary: langs_count\n",
    "langs_count = {}\n",
    "\n",
    "# Extract column from DataFrame: col\n",
    "col = df['lang']\n",
    "\n",
    "# Iterate over lang column in DataFrame\n",
    "for entry in col:\n",
    "\n",
    "    # If the language is in langs_count, add 1 \n",
    "    if entry in langs_count.keys():\n",
    "        langs_count[entry] += 1\n",
    "    # Else add the language to langs_count, set the value to 1\n",
    "    else:\n",
    "        langs_count[entry] = 1\n",
    "\n",
    "# Print the populated dictionary\n",
    "print(langs_count)"
   ]
  },
  {
   "cell_type": "markdown",
   "id": "4c15f757",
   "metadata": {},
   "source": [
    "## 1.13 Bringing it all together (2)\n",
    "\n",
    "Great job! You've now defined the functionality for iterating over entries in a column and building a dictionary with keys the names of languages and values the number of tweets in the given language.\n",
    "\n",
    "In this exercise, you will define a function with the functionality you developed in the previous exercise, return the resulting dictionary from within the function, and call the function with the appropriate arguments.\n",
    "\n",
    "For your convenience, the pandas package has been imported as `pd` and the `'tweets.csv'` file has been imported into the `tweets_df` variable."
   ]
  },
  {
   "cell_type": "code",
   "execution_count": 9,
   "id": "b015fcf0",
   "metadata": {},
   "outputs": [],
   "source": [
    "tweets_df = pd.read_csv('datasets/tweets.csv')"
   ]
  },
  {
   "cell_type": "markdown",
   "id": "7307c9b4",
   "metadata": {},
   "source": [
    "### 1.13.1 Instructions\n",
    "\n",
    "- Define the function `count_entries()`, which has two parameters. The first parameter is `df` for the DataFrame and the second is `col_name` for the column name.\n",
    "- Complete the bodies of the `if-else` statements in the `for` loop: **if** the key is in the dictionary `langs_count`, add `1` to its current value, **else** add the key to `langs_count` and set its value to `1`. Use the loop variable `entry` in your code.\n",
    "- Return the `langs_count` dictionary from inside the `count_entries()` function.\n",
    "- Call the `count_entries()` function by passing to it `tweets_df` and the name of the column, `'lang'`. Assign the result of the call to the variable `result`."
   ]
  },
  {
   "cell_type": "code",
   "execution_count": 10,
   "id": "0747a2b0",
   "metadata": {},
   "outputs": [
    {
     "name": "stdout",
     "output_type": "stream",
     "text": [
      "{'en': 97, 'et': 1, 'und': 2}\n"
     ]
    }
   ],
   "source": [
    "# Define count_entries()\n",
    "def count_entries(df, col_name):\n",
    "    \"\"\"Return a dictionary with counts of \n",
    "    occurrences as value for each key.\"\"\"\n",
    "\n",
    "    # Initialize an empty dictionary: langs_count\n",
    "    langs_count = {}\n",
    "    \n",
    "    # Extract column from DataFrame: col\n",
    "    col = df[col_name]\n",
    "    \n",
    "    # Iterate over lang column in DataFrame\n",
    "    for entry in col:\n",
    "\n",
    "        # If the language is in langs_count, add 1\n",
    "        if entry in langs_count.keys():\n",
    "            langs_count[entry] += 1\n",
    "        # Else add the language to langs_count, set the value to 1\n",
    "        else:\n",
    "            langs_count[entry] = 1\n",
    "\n",
    "    # Return the langs_count dictionary\n",
    "    return langs_count\n",
    "\n",
    "# Call count_entries(): result\n",
    "result = count_entries(tweets_df, 'lang')\n",
    "\n",
    "# Print the result\n",
    "print(result)"
   ]
  },
  {
   "cell_type": "markdown",
   "id": "6c3087d9",
   "metadata": {},
   "source": [
    "## 1.14 Congratulations!"
   ]
  },
  {
   "cell_type": "markdown",
   "id": "2c62bcd8",
   "metadata": {},
   "source": [
    "# 2 Default arguments, variable-length arguments and scope\n",
    "\n",
    "In this chapter, you'll learn to write functions with default arguments so that the user doesn't always need to specify them, and variable-length arguments so they can pass an arbitrary number of arguments on to your functions. You'll also learn about the essential concept of scope."
   ]
  },
  {
   "cell_type": "markdown",
   "id": "24574e1b",
   "metadata": {},
   "source": [
    "## 2.1 Scope and user-defined functions"
   ]
  },
  {
   "cell_type": "markdown",
   "id": "1ce0eeac",
   "metadata": {},
   "source": [
    "## 2.2 Pop quiz on understanding scope\n",
    "\n",
    "In this exercise, you will practice what you've learned about scope in functions. The variable `num` has been predefined as `5`, alongside the following function definitions:\n",
    "\n",
    "```python\n",
    "def func1():\n",
    "    num = 3\n",
    "    print(num)\n",
    "\n",
    "def func2():\n",
    "    global num\n",
    "    double_num = num * 2\n",
    "    num = 6\n",
    "    print(double_num)\n",
    "```\n",
    "\n",
    "Try calling `func1()` and `func2()` in the shell, then answer the following questions:\n",
    "\n",
    "- What are the values printed out when you call `func1()` and `func2()`?\n",
    "- What is the value of `num` in the global scope after calling `func1()` and `func2()`?"
   ]
  },
  {
   "cell_type": "markdown",
   "id": "9b6daf9a",
   "metadata": {},
   "source": [
    "### 2.2.1 Instructions\n",
    "\n",
    "### Possible Answers\n",
    "\n",
    "- [ ] `func1()` prints out `3`, `func2()` prints out `6`, and the value of `num` in the global scope is `3`.\n",
    "\n",
    "\n",
    "- [ ] `func1()` prints out `3`, `func2()` prints out `3`, and the value of `num` in the global scope is `3`.\n",
    "\n",
    "\n",
    "- [ ] `func1()` prints out `3`, `func2()` prints out `10`, and the value of `num` in the global scope is `10`.\n",
    "\n",
    "\n",
    "- [x] `func1()` prints out `3`, `func2()` prints out `10`, and the value of `num` in the global scope is `6`."
   ]
  },
  {
   "cell_type": "markdown",
   "id": "c1a8ee70",
   "metadata": {},
   "source": [
    "## 2.3 The keyword global\n",
    "\n",
    "Let's work more on your mastery of scope. In this exercise, you will use the keyword `global` within a function to alter the value of a variable defined in the global scope."
   ]
  },
  {
   "cell_type": "markdown",
   "id": "d32fdd17",
   "metadata": {},
   "source": [
    "### 2.3.1 Instructions\n",
    "\n",
    "- Use the keyword `global` to alter the object `team` in the global scope.\n",
    "- Change the value of `team` in the global scope to the string `\"justice league\"`. Assign the result to `team`.\n",
    "- Hit the Submit button to see how executing your newly defined function `change_team()` changes the value of the name `team`!"
   ]
  },
  {
   "cell_type": "code",
   "execution_count": 11,
   "id": "a3a8f915",
   "metadata": {},
   "outputs": [
    {
     "name": "stdout",
     "output_type": "stream",
     "text": [
      "teen titans\n",
      "justice league\n"
     ]
    }
   ],
   "source": [
    "# Create a string: team\n",
    "team = \"teen titans\"\n",
    "\n",
    "# Define change_team()\n",
    "def change_team():\n",
    "    \"\"\"Change the value of the global variable team.\"\"\"\n",
    "\n",
    "    # Use team in global scope\n",
    "    global team\n",
    "\n",
    "    # Change the value of team in global: team\n",
    "    team = \"justice league\"\n",
    "# Print team\n",
    "print(team)\n",
    "\n",
    "# Call change_team()\n",
    "change_team()\n",
    "\n",
    "# Print team\n",
    "print(team)"
   ]
  },
  {
   "cell_type": "markdown",
   "id": "92e1325f",
   "metadata": {},
   "source": [
    "## 2.4 Python's built-in scope\n",
    "\n",
    "Here you're going to check out Python's built-in scope, which is really just a built-in module called `builtins`. However, to query `builtins`, you'll need to `import builtins` 'because the name builtins is not itself built in…No, I’m serious!' ([*Learning Python*, 5th edition](http://shop.oreilly.com/product/0636920028154.do), Mark Lutz). After executing `import builtins` in the IPython Shell, execute `dir(builtins)` to print a list of all the names in the module `builtins`. Have a look and you'll see a bunch of names that you'll recognize! Which of the following names is NOT in the module builtins?"
   ]
  },
  {
   "cell_type": "markdown",
   "id": "e0063f15",
   "metadata": {},
   "source": [
    "### 2.4.1 Instructions\n",
    "### Possible Answers\n",
    "\n",
    "- [ ] 'sum'\n",
    "\n",
    "- [ ] 'range'\n",
    "\n",
    "- [x] 'array'\n",
    "\n",
    "- [ ] 'tuple'"
   ]
  },
  {
   "cell_type": "markdown",
   "id": "b0ae6d20",
   "metadata": {},
   "source": [
    "## 2.5 Nested functions"
   ]
  },
  {
   "cell_type": "markdown",
   "id": "1f3f0c7b",
   "metadata": {},
   "source": [
    "## 2.6 Nested Functions I\n",
    "\n",
    "You've learned in the last video about nesting functions within functions. One reason why you'd like to do this is to avoid writing out the same computations within functions repeatedly. There's nothing new about defining nested functions: you simply define it as you would a regular function with `def` and embed it inside another function!\n",
    "\n",
    "In this exercise, inside a function `three_shouts()`, you will define a nested function `inner()` that concatenates a string object with `!!!`. `three_shouts()` then returns a tuple of three elements, each a string concatenated with `!!!` using `inner()`. Go for it!"
   ]
  },
  {
   "cell_type": "markdown",
   "id": "2ccffca8",
   "metadata": {},
   "source": [
    "### 2.6.1 Instructions\n",
    "\n",
    "- Complete the function header of the nested function with the function name `inner()` and a single parameter `word`.\n",
    "- Complete the return value: each element of the tuple should be a call to `inner()`, passing in the parameters from `three_shouts()` as arguments to each call."
   ]
  },
  {
   "cell_type": "code",
   "execution_count": 12,
   "id": "bb53e089",
   "metadata": {},
   "outputs": [
    {
     "name": "stdout",
     "output_type": "stream",
     "text": [
      "('a!!!', 'b!!!', 'c!!!')\n"
     ]
    }
   ],
   "source": [
    "# Define three_shouts\n",
    "def three_shouts(word1, word2, word3):\n",
    "    \"\"\"Returns a tuple of strings\n",
    "    concatenated with '!!!'.\"\"\"\n",
    "\n",
    "    # Define inner\n",
    "    def inner(word):\n",
    "        \"\"\"Returns a string concatenated with '!!!'.\"\"\"\n",
    "        return word + '!!!'\n",
    "\n",
    "    # Return a tuple of strings\n",
    "    return (inner(word1), inner(word2), inner(word3))\n",
    "\n",
    "# Call three_shouts() and print\n",
    "print(three_shouts('a', 'b', 'c'))"
   ]
  },
  {
   "cell_type": "markdown",
   "id": "3b3abba9",
   "metadata": {},
   "source": [
    "## 2.7 Nested Functions II\n",
    "\n",
    "Great job, you've just nested a function within another function. One other pretty cool reason for nesting functions is the idea of a **closure**. This means that the nested or inner function remembers the state of its enclosing scope when called. Thus, anything defined locally in the enclosing scope is available to the inner function even when the outer function has finished execution.\n",
    "\n",
    "Let's move forward then! In this exercise, you will complete the definition of the inner function `inner_echo()` and then call `echo()` a couple of times, each with a different argument. Complete the exercise and see what the output will be!"
   ]
  },
  {
   "cell_type": "markdown",
   "id": "8d28d5a6",
   "metadata": {},
   "source": [
    "### 2.7.1 Instructions\n",
    "\n",
    "- Complete the function header of the inner function with the function name `inner_echo()` and a single parameter `word1`.\n",
    "- Complete the function `echo()` so that it returns `inner_echo`.\n",
    "- We have called `echo()`, passing 2 as an argument, and assigned the resulting function to `twice`. Your job is to call `echo()`, passing 3 as an argument. Assign the resulting function to `thrice`.\n",
    "- Hit Submit to call `twice()` and `thrice()` and print the results."
   ]
  },
  {
   "cell_type": "code",
   "execution_count": 13,
   "id": "6ad845d8",
   "metadata": {},
   "outputs": [
    {
     "name": "stdout",
     "output_type": "stream",
     "text": [
      "hellohello hellohellohello\n"
     ]
    }
   ],
   "source": [
    "# Define echo\n",
    "def echo(n):\n",
    "    \"\"\"Return the inner_echo function.\"\"\"\n",
    "\n",
    "    # Define inner_echo\n",
    "    def inner_echo(word1):\n",
    "        \"\"\"Concatenate n copies of word1.\"\"\"\n",
    "        echo_word = word1 * n\n",
    "        return echo_word\n",
    "\n",
    "    # Return inner_echo\n",
    "    return inner_echo\n",
    "\n",
    "# Call echo: twice\n",
    "twice = echo(2)\n",
    "\n",
    "# Call echo: thrice\n",
    "thrice = echo(3)\n",
    "\n",
    "# Call twice() and thrice() then print\n",
    "print(twice('hello'), thrice('hello'))"
   ]
  },
  {
   "cell_type": "markdown",
   "id": "bb896010",
   "metadata": {},
   "source": [
    "## 2.8 The keyword nonlocal and nested functions\n",
    "\n",
    "Let's once again work further on your mastery of scope! In this exercise, you will use the keyword `nonlocal` within a nested function to alter the value of a variable defined in the enclosing scope."
   ]
  },
  {
   "cell_type": "markdown",
   "id": "bb1b4a9f",
   "metadata": {},
   "source": [
    "### 2.8.1 Instructions\n",
    "\n",
    "- Assign to `echo_word` the string `word`, concatenated with itself.\n",
    "- Use the keyword `nonlocal` to alter the value of `echo_word` in the enclosing scope.\n",
    "- Alter `echo_word` to `echo_word` concatenated with '!!!'.\n",
    "- Call the function `echo_shout()`, passing it a single argument 'hello'."
   ]
  },
  {
   "cell_type": "code",
   "execution_count": 14,
   "id": "59d27b88",
   "metadata": {},
   "outputs": [
    {
     "name": "stdout",
     "output_type": "stream",
     "text": [
      "hellohello\n",
      "hellohello!!!\n"
     ]
    }
   ],
   "source": [
    "# Define echo_shout()\n",
    "def echo_shout(word):\n",
    "    \"\"\"Change the value of a nonlocal variable\"\"\"\n",
    "    \n",
    "    # Concatenate word with itself: echo_word\n",
    "    echo_word = word + word\n",
    "    \n",
    "    # Print echo_word\n",
    "    print(echo_word)\n",
    "    \n",
    "    # Define inner function shout()\n",
    "    def shout():\n",
    "        \"\"\"Alter a variable in the enclosing scope\"\"\"    \n",
    "        # Use echo_word in nonlocal scope\n",
    "        nonlocal echo_word\n",
    "        \n",
    "        # Change echo_word to echo_word concatenated with '!!!'\n",
    "        echo_word = echo_word + '!!!'\n",
    "    \n",
    "    # Call function shout()\n",
    "    shout()\n",
    "    \n",
    "    # Print echo_word\n",
    "    print(echo_word)\n",
    "\n",
    "# Call function echo_shout() with argument 'hello'\n",
    "echo_shout('hello')"
   ]
  },
  {
   "cell_type": "markdown",
   "id": "77799726",
   "metadata": {},
   "source": [
    "## 2.9 Default and flexible arguments"
   ]
  },
  {
   "cell_type": "markdown",
   "id": "4f420bf4",
   "metadata": {},
   "source": [
    "## 2.10 Functions with one default argument\n",
    "\n",
    "In the previous chapter, you've learned to define functions with more than one parameter and then calling those functions by passing the required number of arguments. In the last video, Hugo built on this idea by showing you how to define functions with default arguments. You will practice that skill in this exercise by writing a function that uses a default argument and then calling the function a couple of times."
   ]
  },
  {
   "cell_type": "markdown",
   "id": "15543322",
   "metadata": {},
   "source": [
    "### 2.10.1 Instructions\n",
    "\n",
    "- Complete the function header with the function name `shout_echo`. It accepts an argument `word1` and a default argument `echo` with default value `1`, in that order.\n",
    "- Use the `*` operator to concatenate `echo` copies of `word1`. Assign the result to `echo_word`.\n",
    "- Call `shout_echo()` with just the string, `\"Hey\"`. Assign the result to `no_echo`.\n",
    "- Call `shout_echo()` with the string `\"Hey\"` and the value `5` for the default argument, `echo`. Assign the result to `with_echo`."
   ]
  },
  {
   "cell_type": "code",
   "execution_count": 15,
   "id": "cdf7da90",
   "metadata": {},
   "outputs": [
    {
     "name": "stdout",
     "output_type": "stream",
     "text": [
      "Hey!!!\n",
      "HeyHeyHeyHeyHey!!!\n"
     ]
    }
   ],
   "source": [
    "# Define shout_echo\n",
    "def shout_echo(word1, echo = 1):\n",
    "    \"\"\"Concatenate echo copies of word1 and three\n",
    "     exclamation marks at the end of the string.\"\"\"\n",
    "\n",
    "    # Concatenate echo copies of word1 using *: echo_word\n",
    "    echo_word = word1 * echo\n",
    "\n",
    "    # Concatenate '!!!' to echo_word: shout_word\n",
    "    shout_word = echo_word + '!!!'\n",
    "\n",
    "    # Return shout_word\n",
    "    return shout_word\n",
    "\n",
    "# Call shout_echo() with \"Hey\": no_echo\n",
    "no_echo = shout_echo('Hey')\n",
    "\n",
    "# Call shout_echo() with \"Hey\" and echo=5: with_echo\n",
    "with_echo = shout_echo('Hey', 5)\n",
    "\n",
    "# Print no_echo and with_echo\n",
    "print(no_echo)\n",
    "print(with_echo)"
   ]
  },
  {
   "cell_type": "markdown",
   "id": "cb3d11ef",
   "metadata": {},
   "source": [
    "## 2.11 Functions with multiple default arguments\n",
    "\n",
    "You've now defined a function that uses a default argument - don't stop there just yet! You will now try your hand at defining a function with more than one default argument and then calling this function in various ways.\n",
    "\n",
    "After defining the function, you will call it by supplying values to *all* the default arguments of the function. Additionally, you will call the function by not passing a value to one of the default arguments - see how that changes the output of your function!"
   ]
  },
  {
   "cell_type": "markdown",
   "id": "6e4613e2",
   "metadata": {},
   "source": [
    "### 2.11.1 Instructions\n",
    "\n",
    "- Complete the function header with the function name `shout_echo`. It accepts an argument `word1`, a default argument `echo` with default value `1` and a default argument `intense` with default value `False`, in that order.\n",
    "- In the body of the `if` statement, make the string object `echo_word` upper case by applying the method `.upper()` on it.\n",
    "- Call `shout_echo()` with the string, `\"Hey\"`, the value `5` for `echo` and the value `True` for `intense`. Assign the result to `with_big_echo`.\n",
    "- Call `shout_echo()` with the string `\"Hey\"` and the value `True` for `intense`. Assign the result to `big_no_echo`."
   ]
  },
  {
   "cell_type": "code",
   "execution_count": 16,
   "id": "eb3f36ad",
   "metadata": {},
   "outputs": [
    {
     "name": "stdout",
     "output_type": "stream",
     "text": [
      "HEYHEYHEYHEYHEY!!!\n",
      "HEY!!!\n"
     ]
    }
   ],
   "source": [
    "# Define shout_echo\n",
    "def shout_echo(word1, echo = 1, intense = False):\n",
    "    \"\"\"Concatenate echo copies of word1 and three\n",
    "    exclamation marks at the end of the string.\"\"\"\n",
    "\n",
    "    # Concatenate echo copies of word1 using *: echo_word\n",
    "    echo_word = word1 * echo\n",
    "\n",
    "    # Make echo_word uppercase if intense is True\n",
    "    if intense is True:\n",
    "        # Make uppercase and concatenate '!!!': echo_word_new\n",
    "        echo_word_new = echo_word.upper() + '!!!'\n",
    "    else:\n",
    "        # Concatenate '!!!' to echo_word: echo_word_new\n",
    "        echo_word_new = echo_word + '!!!'\n",
    "\n",
    "    # Return echo_word_new\n",
    "    return echo_word_new\n",
    "\n",
    "# Call shout_echo() with \"Hey\", echo=5 and intense=True: with_big_echo\n",
    "with_big_echo = shout_echo('Hey', echo = 5, intense = True)\n",
    "\n",
    "# Call shout_echo() with \"Hey\" and intense=True: big_no_echo\n",
    "big_no_echo = shout_echo('Hey', echo = 1, intense = True)\n",
    "\n",
    "# Print values\n",
    "print(with_big_echo)\n",
    "print(big_no_echo)"
   ]
  },
  {
   "cell_type": "markdown",
   "id": "28065c38",
   "metadata": {},
   "source": [
    "## 2.12 Functions with variable-length arguments (*args)\n",
    "\n",
    "Flexible arguments enable you to pass a variable number of arguments to a function. In this exercise, you will practice defining a function that accepts a variable number of string arguments.\n",
    "\n",
    "The function you will define is `gibberish()` which can accept a variable number of string values. Its return value is a single string composed of all the string arguments concatenated together in the order they were passed to the function call. You will call the function with a single string argument and see how the output changes with another call using more than one string argument. Recall from the previous video that, within the function definition, `args` is a tuple."
   ]
  },
  {
   "cell_type": "markdown",
   "id": "356a3b92",
   "metadata": {},
   "source": [
    "### 2.12.1 Instructions\n",
    "\n",
    "- Complete the function header with the function name `gibberish`. It accepts a single flexible argument `*args`.\n",
    "- Initialize a variable `hodgepodge` to an empty string.\n",
    "- Return the variable `hodgepodge` at the end of the function body.\n",
    "- Call `gibberish()` with the single string, `\"luke\"`. Assign the result to `one_word`.\n",
    "- Hit the Submit button to call `gibberish()` with multiple arguments and to print the value to the Shell."
   ]
  },
  {
   "cell_type": "code",
   "execution_count": 17,
   "id": "d81c58aa",
   "metadata": {},
   "outputs": [
    {
     "name": "stdout",
     "output_type": "stream",
     "text": [
      "luke\n",
      "lukeleiahanobidarth\n"
     ]
    }
   ],
   "source": [
    "# Define gibberish\n",
    "def gibberish(*args):\n",
    "    \"\"\"Concatenate strings in *args together.\"\"\"\n",
    "\n",
    "    # Initialize an empty string: hodgepodge\n",
    "    hodgepodge = ''\n",
    "\n",
    "    # Concatenate the strings in args\n",
    "    for word in args:\n",
    "        hodgepodge += word\n",
    "\n",
    "    # Return hodgepodge\n",
    "    return hodgepodge\n",
    "\n",
    "# Call gibberish() with one string: one_word\n",
    "one_word = gibberish('luke')\n",
    "\n",
    "# Call gibberish() with five strings: many_words\n",
    "many_words = gibberish(\"luke\", \"leia\", \"han\", \"obi\", \"darth\")\n",
    "\n",
    "# Print one_word and many_words\n",
    "print(one_word)\n",
    "print(many_words)"
   ]
  },
  {
   "cell_type": "markdown",
   "id": "19db12d0",
   "metadata": {},
   "source": [
    "## 2.13 Functions with variable-length keyword arguments (**kwargs)\n",
    "\n",
    "Let's push further on what you've learned about flexible arguments - you've used `*args`, you're now going to use `**kwargs`! What makes `**kwargs` different is that it allows you to pass a variable number of *keyword arguments* to functions. Recall from the previous video that, within the function definition, `kwargs` is a dictionary.\n",
    "\n",
    "To understand this idea better, you're going to use `**kwargs` in this exercise to define a function that accepts a variable number of keyword arguments. The function simulates a simple status report system that prints out the status of a character in a movie."
   ]
  },
  {
   "cell_type": "markdown",
   "id": "c631e131",
   "metadata": {},
   "source": [
    "### 2.13.1 Instructions\n",
    "\n",
    "- Complete the function header with the function name `report_status`. It accepts a single flexible argument `**kwargs`.\n",
    "- Iterate over the key-value pairs of `kwargs` to print out the keys and values, separated by a colon ':'.\n",
    "- In the first call to `report_status()`, pass the following keyword-value pairs: `name=\"luke\"`, `affiliation=\"jedi\"` and `status=\"missing\"`.\n",
    "- In the second call to `report_status()`, pass the following keyword-value pairs: `name=\"anakin\"`, `affiliation=\"sith lord\"` and `status=\"deceased\"`."
   ]
  },
  {
   "cell_type": "code",
   "execution_count": 18,
   "id": "64e19126",
   "metadata": {},
   "outputs": [
    {
     "name": "stdout",
     "output_type": "stream",
     "text": [
      "\n",
      "BEGIN: REPORT\n",
      "\n",
      "name: luke\n",
      "affiliation: jedi\n",
      "status: missing\n",
      "\n",
      "END REPORT\n",
      "\n",
      "BEGIN: REPORT\n",
      "\n",
      "name: anakin\n",
      "affiliation: sith lord\n",
      "status: deceased\n",
      "\n",
      "END REPORT\n"
     ]
    }
   ],
   "source": [
    "# Define report_status\n",
    "def report_status(**kwargs):\n",
    "    \"\"\"Print out the status of a movie character.\"\"\"\n",
    "\n",
    "    print(\"\\nBEGIN: REPORT\\n\")\n",
    "\n",
    "    # Iterate over the key-value pairs of kwargs\n",
    "    for key, value in kwargs.items():\n",
    "        # Print out the keys and values, separated by a colon ':'\n",
    "        print(key + \": \" + value)\n",
    "\n",
    "    print(\"\\nEND REPORT\")\n",
    "\n",
    "# First call to report_status()\n",
    "report_status(name=\"luke\", affiliation=\"jedi\", status=\"missing\")\n",
    "\n",
    "# Second call to report_status()\n",
    "report_status(name='anakin', affiliation='sith lord', status='deceased')"
   ]
  },
  {
   "cell_type": "markdown",
   "id": "ab91f490",
   "metadata": {},
   "source": [
    "## 2.14 Bringing it all together"
   ]
  },
  {
   "cell_type": "markdown",
   "id": "9787f13a",
   "metadata": {},
   "source": [
    "## 2.15 Bringing it all together (1)\n",
    "\n",
    "Recall the *Bringing it all together* exercise in the previous chapter where you did a simple Twitter analysis by developing a function that counts how many tweets are in certain languages. The output of your function was a dictionary that had the language as the *keys* and the counts of tweets in that language as the *value*.\n",
    "\n",
    "In this exercise, we will generalize the Twitter language analysis that you did in the previous chapter. You will do that by including a **default argument** that takes a column name.\n",
    "\n",
    "For your convenience, `pandas` has been imported as `pd` and the `'tweets.csv'` file has been imported into the DataFrame `tweets_df`. Parts of the code from your previous work are also provided."
   ]
  },
  {
   "cell_type": "markdown",
   "id": "43a6f695",
   "metadata": {},
   "source": [
    "### 2.15.1 Instructions\n",
    "\n",
    "- Complete the function header by supplying the parameter for a DataFrame `df` and the parameter `col_name` with a default value of `'lang'` for the DataFrame column name.\n",
    "- Call `count_entries()` by passing the `tweets_df` DataFrame and the column name `'lang'`. Assign the result to `result1`. Note that since `'lang'` is the default value of the `col_name` parameter, you don't have to specify it here.\n",
    "- Call `count_entries()` by passing the `tweets_df` DataFrame and the column name `'source'`. Assign the result to `result2`."
   ]
  },
  {
   "cell_type": "code",
   "execution_count": 19,
   "id": "826db149",
   "metadata": {},
   "outputs": [
    {
     "name": "stdout",
     "output_type": "stream",
     "text": [
      "{'en': 97, 'et': 1, 'und': 2}\n",
      "{'<a href=\"http://twitter.com\" rel=\"nofollow\">Twitter Web Client</a>': 24, '<a href=\"http://www.facebook.com/twitter\" rel=\"nofollow\">Facebook</a>': 1, '<a href=\"http://twitter.com/download/android\" rel=\"nofollow\">Twitter for Android</a>': 26, '<a href=\"http://twitter.com/download/iphone\" rel=\"nofollow\">Twitter for iPhone</a>': 33, '<a href=\"http://www.twitter.com\" rel=\"nofollow\">Twitter for BlackBerry</a>': 2, '<a href=\"http://www.google.com/\" rel=\"nofollow\">Google</a>': 2, '<a href=\"http://twitter.com/#!/download/ipad\" rel=\"nofollow\">Twitter for iPad</a>': 6, '<a href=\"http://linkis.com\" rel=\"nofollow\">Linkis.com</a>': 2, '<a href=\"http://rutracker.org/forum/viewforum.php?f=93\" rel=\"nofollow\">newzlasz</a>': 2, '<a href=\"http://ifttt.com\" rel=\"nofollow\">IFTTT</a>': 1, '<a href=\"http://www.myplume.com/\" rel=\"nofollow\">Plume\\xa0for\\xa0Android</a>': 1}\n"
     ]
    }
   ],
   "source": [
    "# Define count_entries()\n",
    "def count_entries(df, col_name = 'lang'):\n",
    "    \"\"\"Return a dictionary with counts of\n",
    "    occurrences as value for each key.\"\"\"\n",
    "\n",
    "    # Initialize an empty dictionary: cols_count\n",
    "    cols_count = {}\n",
    "\n",
    "    # Extract column from DataFrame: col\n",
    "    col = df[col_name]\n",
    "    \n",
    "    # Iterate over the column in DataFrame\n",
    "    for entry in col:\n",
    "\n",
    "        # If entry is in cols_count, add 1\n",
    "        if entry in cols_count.keys():\n",
    "            cols_count[entry] += 1\n",
    "\n",
    "        # Else add the entry to cols_count, set the value to 1\n",
    "        else:\n",
    "            cols_count[entry] = 1\n",
    "\n",
    "    # Return the cols_count dictionary\n",
    "    return cols_count\n",
    "\n",
    "# Call count_entries(): result1\n",
    "result1 = count_entries(tweets_df, col_name = 'lang')\n",
    "\n",
    "# Call count_entries(): result2\n",
    "result2 = count_entries(tweets_df, col_name = 'source')\n",
    "\n",
    "# Print result1 and result2\n",
    "print(result1)\n",
    "print(result2)"
   ]
  },
  {
   "cell_type": "markdown",
   "id": "3100f6ca",
   "metadata": {},
   "source": [
    "## 2.16 Bringing it all together (2)\n",
    "\n",
    "Wow, you've just generalized your Twitter language analysis that you did in the previous chapter to include a default argument for the column name. You're now going to generalize this function one step further by allowing the user to pass it a flexible argument, that is, in this case, as many column names as the user would like!\n",
    "\n",
    "Once again, for your convenience, `pandas` has been imported as `pd` and the `'tweets.csv'` file has been imported into the DataFrame `tweets_df`. Parts of the code from your previous work are also provided."
   ]
  },
  {
   "cell_type": "markdown",
   "id": "df8ad169",
   "metadata": {},
   "source": [
    "### 2.16.1 Instructions\n",
    "\n",
    "- Complete the function header by supplying the parameter for the DataFrame `df` and the flexible argument `*args`.\n",
    "- Complete the `for` loop within the function definition so that the loop occurs over the tuple `args`.\n",
    "- Call `count_entries()` by passing the `tweets_df` DataFrame and the column name `'lang'`. Assign the result to `result1`.\n",
    "- Call `count_entries()` by passing the `tweets_df` DataFrame and the column names `'lang'` and `'source'`. Assign the result to `result2`."
   ]
  },
  {
   "cell_type": "code",
   "execution_count": 20,
   "id": "0c6226f6",
   "metadata": {},
   "outputs": [
    {
     "name": "stdout",
     "output_type": "stream",
     "text": [
      "{'en': 97, 'et': 1, 'und': 2}\n",
      "{'en': 97, 'et': 1, 'und': 2, '<a href=\"http://twitter.com\" rel=\"nofollow\">Twitter Web Client</a>': 24, '<a href=\"http://www.facebook.com/twitter\" rel=\"nofollow\">Facebook</a>': 1, '<a href=\"http://twitter.com/download/android\" rel=\"nofollow\">Twitter for Android</a>': 26, '<a href=\"http://twitter.com/download/iphone\" rel=\"nofollow\">Twitter for iPhone</a>': 33, '<a href=\"http://www.twitter.com\" rel=\"nofollow\">Twitter for BlackBerry</a>': 2, '<a href=\"http://www.google.com/\" rel=\"nofollow\">Google</a>': 2, '<a href=\"http://twitter.com/#!/download/ipad\" rel=\"nofollow\">Twitter for iPad</a>': 6, '<a href=\"http://linkis.com\" rel=\"nofollow\">Linkis.com</a>': 2, '<a href=\"http://rutracker.org/forum/viewforum.php?f=93\" rel=\"nofollow\">newzlasz</a>': 2, '<a href=\"http://ifttt.com\" rel=\"nofollow\">IFTTT</a>': 1, '<a href=\"http://www.myplume.com/\" rel=\"nofollow\">Plume\\xa0for\\xa0Android</a>': 1}\n"
     ]
    }
   ],
   "source": [
    "# Define count_entries()\n",
    "def count_entries(df, *args):\n",
    "    \"\"\"Return a dictionary with counts of\n",
    "    occurrences as value for each key.\"\"\"\n",
    "    \n",
    "    #Initialize an empty dictionary: cols_count\n",
    "    cols_count = {}\n",
    "    \n",
    "    # Iterate over column names in args\n",
    "    for col_name in args:\n",
    "    \n",
    "        # Extract column from DataFrame: col\n",
    "        col = df[col_name]\n",
    "    \n",
    "        # Iterate over the column in DataFrame\n",
    "        for entry in col:\n",
    "    \n",
    "            # If entry is in cols_count, add 1\n",
    "            if entry in cols_count.keys():\n",
    "                cols_count[entry] += 1\n",
    "    \n",
    "            # Else add the entry to cols_count, set the value to 1\n",
    "            else:\n",
    "                cols_count[entry] = 1\n",
    "\n",
    "    # Return the cols_count dictionary\n",
    "    return cols_count\n",
    "\n",
    "# Call count_entries(): result1\n",
    "result1 = count_entries(tweets_df, 'lang')\n",
    "\n",
    "# Call count_entries(): result2\n",
    "result2 = count_entries(tweets_df, 'lang', 'source')\n",
    "\n",
    "# Print result1 and result2\n",
    "print(result1)\n",
    "print(result2)"
   ]
  },
  {
   "cell_type": "markdown",
   "id": "82349d9a",
   "metadata": {},
   "source": [
    "# 3 Lambda functions and error-handling\n",
    "\n",
    "Learn about lambda functions, which allow you to write functions quickly and on the fly. You'll also practice handling errors in your functions, which is an essential skill. Then, apply your new skills to answer data science questions."
   ]
  },
  {
   "cell_type": "markdown",
   "id": "98c13d48",
   "metadata": {},
   "source": [
    "## 3.1 Lambda functions"
   ]
  },
  {
   "cell_type": "markdown",
   "id": "951b983f",
   "metadata": {},
   "source": [
    "## 3.2 Pop quiz on lambda functions\n",
    "\n",
    "In this exercise, you will practice writing a simple lambda function and calling this function. Recall what you know about lambda functions and answer the following questions:\n",
    "\n",
    "- How would you write a lambda function `add_bangs` that adds three exclamation points `'!!!'` to the end of a string `a`?\n",
    "- How would you call `add_bangs` with the argument `'hello'`?\n",
    "\n",
    "You may use the IPython shell to test your code."
   ]
  },
  {
   "cell_type": "markdown",
   "id": "e2deab09",
   "metadata": {},
   "source": [
    "### 3.2.1 Instructions\n",
    "### Possible Answers\n",
    "\n",
    "- [ ] The lambda function definition is: `add_bangs = (a + '!!!')`, and the function call is: `add_bangs('hello')`.\n",
    "\n",
    "- [x] The lambda function definition is: `add_bangs = (lambda a: a + '!!!')`, and the function call is: `add_bangs('hello')`.\n",
    "\n",
    "- [ ] The lambda function definition is: `(lambda a: a + '!!!') = add_bangs`, and the function call is: `add_bangs('hello')`."
   ]
  },
  {
   "cell_type": "markdown",
   "id": "ad26104f",
   "metadata": {},
   "source": [
    "## 3.3 Writing a lambda function you already know\n",
    "\n",
    "Some function definitions are simple enough that they can be converted to a lambda function. By doing this, you write less lines of code, which is pretty awesome and will come in handy, especially when you're writing and maintaining big programs. In this exercise, you will use what you know about lambda functions to convert a function that does a simple task into a lambda function. Take a look at this function definition:\n",
    "\n",
    "```python\n",
    "def echo_word(word1, echo):\n",
    "    \"\"\"Concatenate echo copies of word1.\"\"\"\n",
    "    words = word1 * echo\n",
    "    return words\n",
    "```\n",
    "\n",
    "The function `echo_word` takes 2 parameters: a string value, `word1` and an integer value, `echo`. It returns a string that is a concatenation of `echo` copies of `word1`. Your task is to convert this simple function into a lambda function."
   ]
  },
  {
   "cell_type": "markdown",
   "id": "18a33669",
   "metadata": {},
   "source": [
    "### 3.3.1 Instructions\n",
    "\n",
    "- Define the lambda function `echo_word` using the variables `word1` and `echo`. Replicate what the original function definition for `echo_word()` does above.\n",
    "- Call `echo_word()` with the string argument `'hey'` and the value `5`, in that order. Assign the call to `result`."
   ]
  },
  {
   "cell_type": "code",
   "execution_count": 21,
   "id": "05492b7f",
   "metadata": {},
   "outputs": [
    {
     "name": "stdout",
     "output_type": "stream",
     "text": [
      "heyheyheyheyhey\n"
     ]
    }
   ],
   "source": [
    "# Define echo_word as a lambda function: echo_word\n",
    "echo_word = lambda word1, echo: word1 * echo\n",
    "\n",
    "# Call echo_word: result\n",
    "result = echo_word(word1 = 'hey', echo = 5)\n",
    "\n",
    "# Print result\n",
    "print(result)"
   ]
  },
  {
   "cell_type": "markdown",
   "id": "6b420be2",
   "metadata": {},
   "source": [
    "## 3.4 Map() and lambda functions\n",
    "\n",
    "So far, you've used lambda functions to write short, simple functions as well as to redefine functions with simple functionality. The best use case for lambda functions, however, are for when you want these simple functionalities to be anonymously embedded within larger expressions. What that means is that the functionality is not stored in the environment, unlike a function defined with `def`. To understand this idea better, you will use a lambda function in the context of the `map()` function.\n",
    "\n",
    "Recall from the video that `map()` applies a function over an object, such as a list. Here, you can use lambda functions to define the function that `map()` will use to process the object. For example:\n",
    "\n",
    "```python\n",
    "nums = [2, 4, 6, 8, 10]\n",
    "\n",
    "result = map(lambda a: a ** 2, nums)\n",
    "```\n",
    "\n",
    "You can see here that a lambda function, which raises a value `a` to the power of 2, is passed to `map()` alongside a list of numbers, `nums`. The *map object* that results from the call to `map()` is stored in `result`. You will now practice the use of lambda functions with `map()`. For this exercise, you will map the functionality of the `add_bangs()` function you defined in previous exercises over a list of strings."
   ]
  },
  {
   "cell_type": "markdown",
   "id": "20e903f6",
   "metadata": {},
   "source": [
    "### 3.4.1 Instructions\n",
    "\n",
    "- In the `map()` call, pass a lambda function that concatenates the string `'!!!'` to a string `item`; also pass the list of strings, `spells`. Assign the resulting map object to `shout_spells`.\n",
    "- Convert `shout_spells` to a list and print out the list."
   ]
  },
  {
   "cell_type": "code",
   "execution_count": 22,
   "id": "d0c149f9",
   "metadata": {},
   "outputs": [
    {
     "name": "stdout",
     "output_type": "stream",
     "text": [
      "['protego!!!', 'accio!!!', 'expecto patronum!!!', 'legilimens!!!']\n"
     ]
    }
   ],
   "source": [
    "# Create a list of strings: spells\n",
    "spells = [\"protego\", \"accio\", \"expecto patronum\", \"legilimens\"]\n",
    "\n",
    "# Use map() to apply a lambda function over spells: shout_spells\n",
    "shout_spells = map(lambda spells: spells + '!!!', spells)\n",
    "\n",
    "# Convert shout_spells to a list: shout_spells_list\n",
    "shout_spells_list = list(shout_spells)\n",
    "\n",
    "# Print the result\n",
    "print(shout_spells_list)"
   ]
  },
  {
   "cell_type": "markdown",
   "id": "aaccad1a",
   "metadata": {},
   "source": [
    "## 3.5 Filter() and lambda functions\n",
    "\n",
    "In the previous exercise, you used lambda functions to anonymously embed an operation within `map()`. You will practice this again in this exercise by using a lambda function with `filter()`, which may be new to you! The function `filter()` offers a way to filter out elements from a list that don't satisfy certain criteria.\n",
    "\n",
    "Your goal in this exercise is to use `filter()` to create, from an input list of strings, a new list that contains only strings that have more than 6 characters."
   ]
  },
  {
   "cell_type": "markdown",
   "id": "3722ca27",
   "metadata": {},
   "source": [
    "### 3.5.1 Instructions\n",
    "\n",
    "- In the `filter()` call, pass a lambda function and the list of strings, `fellowship`. The lambda function should check if the number of characters in a string `member` is greater than 6; use the `len()` function to do this. Assign the resulting filter object to `result`.\n",
    "- Convert `result` to a list and print out the list."
   ]
  },
  {
   "cell_type": "code",
   "execution_count": 23,
   "id": "3daa0463",
   "metadata": {},
   "outputs": [
    {
     "name": "stdout",
     "output_type": "stream",
     "text": [
      "['samwise', 'aragorn', 'boromir', 'legolas', 'gandalf']\n"
     ]
    }
   ],
   "source": [
    "# Create a list of strings: fellowship\n",
    "fellowship = ['frodo', 'samwise', 'merry', 'pippin', 'aragorn', 'boromir', 'legolas', 'gimli', 'gandalf']\n",
    "\n",
    "# Use filter() to apply a lambda function over fellowship: result\n",
    "result = filter(lambda member: len(member) > 6, fellowship)\n",
    "\n",
    "# Convert result to a list: result_list\n",
    "result_list = list(result)\n",
    "\n",
    "# Print result_list\n",
    "print(result_list)"
   ]
  },
  {
   "cell_type": "markdown",
   "id": "ed54e940",
   "metadata": {},
   "source": [
    "## 3.6 Reduce() and lambda functions\n",
    "\n",
    "You're getting very good at using lambda functions! Here's one more function to add to your repertoire of skills. The `reduce()` function is useful for performing some computation on a list and, unlike `map()` and `filter()`, returns a single value as a result. To use `reduce()`, you must import it from the `functools` module.\n",
    "\n",
    "Remember `gibberish()` from a few exercises back?\n",
    "\n",
    "```python\n",
    "# Define gibberish\n",
    "def gibberish(*args):\n",
    "    \"\"\"Concatenate strings in *args together.\"\"\"\n",
    "    hodgepodge = ''\n",
    "    for word in args:\n",
    "        hodgepodge += word\n",
    "    return hodgepodge\n",
    "```\n",
    "\n",
    "`gibberish()` simply takes a list of strings as an argument and returns, as a single-value result, the concatenation of all of these strings. In this exercise, you will replicate this functionality by using `reduce()` and a lambda function that concatenates strings together."
   ]
  },
  {
   "cell_type": "markdown",
   "id": "33947a9e",
   "metadata": {},
   "source": [
    "### 3.6.1 Instructions\n",
    "\n",
    "- Import the `reduce` function from the `functools` module.\n",
    "- In the `reduce()` call, pass a lambda function that takes two string arguments `item1` and `item2` and concatenates them; also pass the list of strings, `stark`. Assign the result to `result`. The first argument to `reduce()` should be the lambda function and the second argument is the list `stark`."
   ]
  },
  {
   "cell_type": "code",
   "execution_count": 24,
   "id": "d61214cc",
   "metadata": {},
   "outputs": [
    {
     "name": "stdout",
     "output_type": "stream",
     "text": [
      "robbsansaaryabrandonrickon\n"
     ]
    }
   ],
   "source": [
    "# Import reduce from functools\n",
    "from functools import reduce\n",
    "\n",
    "# Create a list of strings: stark\n",
    "stark = ['robb', 'sansa', 'arya', 'brandon', 'rickon']\n",
    "\n",
    "# Use reduce() to apply a lambda function over stark: result\n",
    "result = reduce(lambda item1, item2: item1 + item2, stark)\n",
    "\n",
    "# Print the result\n",
    "print(result)"
   ]
  },
  {
   "cell_type": "markdown",
   "id": "fcd3e4dd",
   "metadata": {},
   "source": [
    "## 3.7 Introduction to error handling"
   ]
  },
  {
   "cell_type": "markdown",
   "id": "f70c58a6",
   "metadata": {},
   "source": [
    "## 3.8 Pop quiz about errors\n",
    "\n",
    "In the video, Hugo talked about how errors happen when functions are supplied arguments that they are unable to work with. In this exercise, you will identify which function call raises an error and what type of error is raised.\n",
    "\n",
    "Take a look at the following function calls to `len()`:\n",
    "\n",
    "```python\n",
    "len('There is a beast in every man and it stirs when you put a sword in his hand.')\n",
    "\n",
    "len(['robb', 'sansa', 'arya', 'eddard', 'jon'])\n",
    "\n",
    "len(525600)\n",
    "\n",
    "len(('jaime', 'cersei', 'tywin', 'tyrion', 'joffrey'))\n",
    "```\n",
    "\n",
    "Which of the function calls raises an error and what type of error is raised?"
   ]
  },
  {
   "cell_type": "markdown",
   "id": "02459dc1",
   "metadata": {},
   "source": [
    "### 3.8.1 Instructions\n",
    "\n",
    "### Possible Answers\n",
    "\n",
    "- [ ] The call `len('There is a beast in every man and it stirs when you put a sword in his hand.')` raises a `TypeError`.\n",
    "\n",
    "- [ ] The call `len(['robb', 'sansa', 'arya', 'eddard', 'jon'])` raises an `IndexError`.\n",
    "\n",
    "- [x] The call `len(525600)` raises a `TypeError`.\n",
    "\n",
    "- [ ] The call `len(('jaime', 'cersei', 'tywin', 'tyrion', 'joffrey'))` raises a `NameError`."
   ]
  },
  {
   "cell_type": "markdown",
   "id": "49365ca3",
   "metadata": {},
   "source": [
    "## 3.9 Error handling with try-except\n",
    "\n",
    "A good practice in writing your own functions is also anticipating the ways in which other people (or yourself, if you accidentally misuse your own function) might use the function you defined.\n",
    "\n",
    "As in the previous exercise, you saw that the `len()` function is able to handle input arguments such as strings, lists, and tuples, but not int type ones and raises an appropriate error and error message when it encounters invalid input arguments. One way of doing this is through exception handling with the `try-except` block.\n",
    "\n",
    "In this exercise, you will define a function as well as use a `try-except` block for handling cases when incorrect input arguments are passed to the function.\n",
    "\n",
    "Recall the `shout_echo()` function you defined in previous exercises; parts of the function definition are provided in the sample code. Your goal is to complete the exception handling code in the function definition and provide an appropriate error message when raising an error."
   ]
  },
  {
   "cell_type": "markdown",
   "id": "65c4a381",
   "metadata": {},
   "source": [
    "### 3.9.1 Instructions\n",
    "\n",
    "- Initialize the variables `echo_word` and `shout_words` to empty strings.\n",
    "- Add the keywords `try` and `except` in the appropriate locations for the exception handling block.\n",
    "- Use the `*` operator to concatenate `echo` copies of `word1`. Assign the result to `echo_word`.\n",
    "- Concatenate the string `'!!!'` to `echo_word`. Assign the result to `shout_words`."
   ]
  },
  {
   "cell_type": "code",
   "execution_count": 25,
   "id": "1a20f4d3",
   "metadata": {},
   "outputs": [
    {
     "name": "stdout",
     "output_type": "stream",
     "text": [
      "word1 must be a string and echo must be an integer.\n"
     ]
    },
    {
     "data": {
      "text/plain": [
       "''"
      ]
     },
     "execution_count": 25,
     "metadata": {},
     "output_type": "execute_result"
    }
   ],
   "source": [
    "# Define shout_echo\n",
    "def shout_echo(word1, echo=1):\n",
    "    \"\"\"Concatenate echo copies of word1 and three\n",
    "    exclamation marks at the end of the string.\"\"\"\n",
    "\n",
    "    # Initialize empty strings: echo_word, shout_words\n",
    "    echo_word = ''\n",
    "    shout_words = ''\n",
    "\n",
    "    # Add exception handling with try-except\n",
    "    try:\n",
    "        # Concatenate echo copies of word1 using *: echo_word\n",
    "        echo_word = word1 * echo\n",
    "\n",
    "        # Concatenate '!!!' to echo_word: shout_words\n",
    "        shout_words = echo_word + '!!!'\n",
    "    except:\n",
    "        # Print error message\n",
    "        print(\"word1 must be a string and echo must be an integer.\")\n",
    "\n",
    "    # Return shout_words\n",
    "    return shout_words\n",
    "\n",
    "# Call shout_echo\n",
    "shout_echo(\"particle\", echo=\"accelerator\")"
   ]
  },
  {
   "cell_type": "markdown",
   "id": "557b6fac",
   "metadata": {},
   "source": [
    "## 3.10 Error handling by raising an error\n",
    "\n",
    "Another way to raise an error is by using `raise`. In this exercise, you will add a `raise` statement to the `shout_echo()` function you defined before to raise an error message when the value supplied by the user to the `echo` argument is less than 0.\n",
    "\n",
    "The call to `shout_echo()` uses valid argument values. To test and see how the `raise` statement works, simply change the value for the `echo` argument to a *negative* value. Don't forget to change it back to valid values to move on to the next exercise!"
   ]
  },
  {
   "cell_type": "markdown",
   "id": "b0f493b7",
   "metadata": {},
   "source": [
    "### 3.10.1 Instructions\n",
    "\n",
    "- Complete the `if` statement by checking if the value of `echo` is *less than* 0.\n",
    "- In the body of the `if` statement, add a `raise` statement that raises a `ValueError` with message `'echo must be greater than or equal to 0'` when the value supplied by the user to `echo` is less than 0."
   ]
  },
  {
   "cell_type": "code",
   "execution_count": 26,
   "id": "f43a3131",
   "metadata": {},
   "outputs": [
    {
     "data": {
      "text/plain": [
       "'particleparticleparticleparticleparticle!!!'"
      ]
     },
     "execution_count": 26,
     "metadata": {},
     "output_type": "execute_result"
    }
   ],
   "source": [
    "# Define shout_echo\n",
    "def shout_echo(word1, echo=1):\n",
    "    \"\"\"Concatenate echo copies of word1 and three\n",
    "    exclamation marks at the end of the string.\"\"\"\n",
    "\n",
    "    # Raise an error with raise\n",
    "    if echo < 0:\n",
    "        raise ValueError('echo must be greater than or equal to 0')\n",
    "\n",
    "    # Concatenate echo copies of word1 using *: echo_word\n",
    "    echo_word = word1 * echo\n",
    "\n",
    "    # Concatenate '!!!' to echo_word: shout_word\n",
    "    shout_word = echo_word + '!!!'\n",
    "\n",
    "    # Return shout_word\n",
    "    return shout_word\n",
    "\n",
    "# Call shout_echo\n",
    "shout_echo(\"particle\", echo=5)"
   ]
  },
  {
   "cell_type": "markdown",
   "id": "5973fb5e",
   "metadata": {},
   "source": [
    "## 3.11 Bringing it all together"
   ]
  },
  {
   "cell_type": "markdown",
   "id": "70689293",
   "metadata": {},
   "source": [
    "## 3.12 Bringing it all together (1)\n",
    "\n",
    "This is awesome! You have now learned how to write anonymous functions using `lambda`, how to pass lambda functions as arguments to other functions such as `map()`, `filter()`, and `reduce()`, as well as how to write errors and output custom error messages within your functions. You will now put together these learnings to good use by working with a Twitter dataset. Before practicing your new error handling skills; in this exercise, you will write a lambda function and use `filter()` to select retweets, that is, tweets that begin with the string `'RT'`.\n",
    "\n",
    "To help you accomplish this, the Twitter data has been imported into the DataFrame, `tweets_df`. Go for it!"
   ]
  },
  {
   "cell_type": "markdown",
   "id": "60b6ba22",
   "metadata": {},
   "source": [
    "### 3.12.1 Instructions\n",
    "\n",
    "- In the `filter()` call, pass a lambda function and the sequence of tweets as strings, `tweets_df['text']`. The lambda function should check if the first 2 characters in a tweet `x` are 'RT'. Assign the resulting filter object to `result`. To get the first 2 characters in a tweet `x`, use `x[0:2]`. To check equality, use a Boolean filter with `==`.\n",
    "- Convert `result` to a list and print out the list."
   ]
  },
  {
   "cell_type": "code",
   "execution_count": 27,
   "id": "39aebc94",
   "metadata": {},
   "outputs": [
    {
     "name": "stdout",
     "output_type": "stream",
     "text": [
      "RT @bpolitics: .@krollbondrating's Christopher Whalen says Clinton is the weakest Dem candidate in 50 years https://t.co/pLk7rvoRSn https:/…\n",
      "RT @HeidiAlpine: @dmartosko Cruz video found.....racing from the scene.... #cruzsexscandal https://t.co/zuAPZfQDk3\n",
      "RT @AlanLohner: The anti-American D.C. elites despise Trump for his America-first foreign policy. Trump threatens their gravy train. https:…\n",
      "RT @BIackPplTweets: Young Donald trump meets his neighbor  https://t.co/RFlu17Z1eE\n",
      "RT @trumpresearch: @WaitingInBagdad @thehill Trump supporters have selective amnisia.\n",
      "RT @HouseCracka: 29,000+ PEOPLE WATCHING TRUMP LIVE ON ONE STREAM!!!\n",
      "\n",
      "https://t.co/7QCFz9ehNe\n",
      "RT @urfavandtrump: RT for Brendon Urie\n",
      "Fav for Donald Trump https://t.co/PZ5vS94lOg\n",
      "RT @trapgrampa: This is how I see #Trump every time he speaks. https://t.co/fYSiHNS0nT\n",
      "RT @trumpresearch: @WaitingInBagdad @thehill Trump supporters have selective amnisia.\n",
      "RT @Pjw20161951: NO KIDDING: #SleazyDonald just attacked Scott Walker for NOT RAISING TAXES in WI! #LyinTrump\n",
      "#NeverTrump  #CruzCrew  https…\n",
      "RT @urfavandtrump: RT for Brendon Urie\n",
      "Fav for Donald Trump https://t.co/PZ5vS94lOg\n",
      "RT @ggreenwald: The media spent all day claiming @SusanSarandon said she might vote for Trump. A total fabrication, but whatever... https:/…\n",
      "RT @Pjw20161951: NO KIDDING: #SleazyDonald just attacked Scott Walker for NOT RAISING TAXES in WI! #LyinTrump\n",
      "#NeverTrump  #CruzCrew  https…\n",
      "RT @trapgrampa: This is how I see #Trump every time he speaks. https://t.co/fYSiHNS0nT\n",
      "RT @mitchellvii: So let me get this straight.  Any reporter can assault Mr Trump at any time and Corey can do nothing?  Michelle is clearly…\n",
      "RT @paulbenedict7: How #Trump Sacks RINO Strongholds by Hitting Positions Held by Dems and GOP https://t.co/D7ulnAJhis   #tcot #PJNET https…\n",
      "RT @DRUDGE_REPORT: VIDEO:  Trump emotional moment with Former Miss Wisconsin who has terminal illness... https://t.co/qt06aG9inT\n",
      "RT @ggreenwald: The media spent all day claiming @SusanSarandon said she might vote for Trump. A total fabrication, but whatever... https:/…\n",
      "RT @DennisApgar: Thank God I seen Trump at first stop in Wisconsin media doesn't know how great he is, advice watch live streaming https://…\n",
      "RT @paulbenedict7: How #Trump Sacks RINO Strongholds by Hitting Positions Held by Dems and GOP https://t.co/D7ulnAJhis   #tcot #PJNET https…\n",
      "RT @DRUDGE_REPORT: VIDEO:  Trump emotional moment with Former Miss Wisconsin who has terminal illness... https://t.co/qt06aG9inT\n",
      "RT @DennisApgar: Thank God I seen Trump at first stop in Wisconsin media doesn't know how great he is, advice watch live streaming https://…\n",
      "RT @mitchellvii: So let me get this straight.  Any reporter can assault Mr Trump at any time and Corey can do nothing?  Michelle is clearly…\n",
      "RT @sciam: Trump's idiosyncratic patterns of speech are why people tend either to love or hate him https://t.co/QXwquVgs3c https://t.co/P9N…\n",
      "RT @Norsu2: Nightmare WI poll for Ted Cruz has Kasich surging: Trump 29, Kasich 27, Cruz 25. https://t.co/lJsgbLYY1P #NeverTrump\n",
      "RT @thehill: WATCH: Protester pepper-sprayed point blank at Trump rally https://t.co/B5f65Al9ld https://t.co/skAfByXuQc\n",
      "RT @sciam: Trump's idiosyncratic patterns of speech are why people tend either to love or hate him https://t.co/QXwquVgs3c https://t.co/P9N…\n",
      "RT @ggreenwald: The media spent all day claiming @SusanSarandon said she might vote for Trump. A total fabrication, but whatever... https:/…\n",
      "RT @DebbieStout5: Wow! Last I checked it was just 12 points &amp; that wasn't more than a day ago. Oh boy Trump ppl might want to rethink🤔 http…\n",
      "RT @tyleroakley: i'm a messy bitch, but at least i'm not voting for trump\n",
      "RT @vandives: Trump supporters r tired of justice NOT being served. There's no justice anymore. Hardworking Americans get screwed. That's n…\n",
      "RT @AP: BREAKING: Trump vows to stand by campaign manager charged with battery, says he does not discard people.\n",
      "RT @AP: BREAKING: Trump vows to stand by campaign manager charged with battery, says he does not discard people.\n",
      "RT @urfavandtrump: RT for Jerrie (Little Mix)\n",
      "Fav for Donald Trump https://t.co/nEVxElW6iG\n",
      "RT @urfavandtrump: RT for Jerrie (Little Mix)\n",
      "Fav for Donald Trump https://t.co/nEVxElW6iG\n",
      "RT @NoahCRothman: When Walker was fighting for reforms, Trump was defending unions and collective bargaining privileges https://t.co/e1UWNN…\n",
      "RT @RedheadAndRight: Report: Secret Service Says Michelle Fields Touched Trump https://t.co/c5c2sD8VO2\n",
      "\n",
      "This is the only article you will n…\n",
      "RT @AIIAmericanGirI: VIDEO=&gt; Anti-Trump Protester SLUGS Elderly Trump Supporter in the Face\n",
      "https://t.co/GeEryMDuDY\n",
      "RT @NoahCRothman: When Walker was fighting for reforms, Trump was defending unions and collective bargaining privileges https://t.co/e1UWNN…\n",
      "RT @JusticeRanger1: @realDonaldTrump @Pudingtane @DanScavino @GOP @infowars @EricTrump \n",
      "URGENT PUBLIC TRUMP ALERT:\n",
      "COVERT KILL MEANS https:…\n",
      "RT @AIIAmericanGirI: VIDEO=&gt; Anti-Trump Protester SLUGS Elderly Trump Supporter in the Face\n",
      "https://t.co/GeEryMDuDY\n",
      "RT @RedheadAndRight: Report: Secret Service Says Michelle Fields Touched Trump https://t.co/c5c2sD8VO2\n",
      "\n",
      "This is the only article you will n…\n",
      "RT @JusticeRanger1: @realDonaldTrump @Pudingtane @DanScavino @GOP @infowars @EricTrump \n",
      "URGENT PUBLIC TRUMP ALERT:\n",
      "COVERT KILL MEANS https:…\n",
      "RT @Schneider_CM: Trump says nobody had ever heard of executive orders before Obama started signing them. Never heard of the Emancipation P…\n",
      "RT @RonBasler1: @DavidWhitDennis @realDonaldTrump @tedcruz \n",
      "\n",
      "CRUZ SCREWS HOOKERS\n",
      "\n",
      "CRUZ / CLINTON\n",
      "RT @DonaldsAngel: Former Ms. WI just said that she is terminally ill but because of Trump pageant, her 7 yr. old son has his college educat…\n",
      "RT @Schneider_CM: Trump says nobody had ever heard of executive orders before Obama started signing them. Never heard of the Emancipation P…\n",
      "RT @DonaldsAngel: Former Ms. WI just said that she is terminally ill but because of Trump pageant, her 7 yr. old son has his college educat…\n",
      "RT @Dodarey: @DR8801 @SykesCharlie Charlie, let's see you get a straight \"yes\" or \"no\" answer from Cruz a/b being unfaithful to his wife @T…\n",
      "RT @RonBasler1: @DavidWhitDennis @realDonaldTrump @tedcruz \n",
      "\n",
      "CRUZ SCREWS HOOKERS\n",
      "\n",
      "CRUZ / CLINTON\n",
      "RT @RockCliffOne: Remember when the idea of a diabolical moron holding the world hostage was an idea for a funny movie? #Trump #GOP https:/…\n",
      "RT @HillaryClinton: \"Every day, another Republican bemoans the rise of Donald Trump... but [he] didn’t come out of nowhere.\" —Hillary\n",
      "https…\n",
      "RT @Dodarey: @DR8801 @SykesCharlie Charlie, let's see you get a straight \"yes\" or \"no\" answer from Cruz a/b being unfaithful to his wife @T…\n",
      "RT @HillaryClinton: \"Every day, another Republican bemoans the rise of Donald Trump... but [he] didn’t come out of nowhere.\" —Hillary\n",
      "https…\n",
      "RT @RockCliffOne: Remember when the idea of a diabolical moron holding the world hostage was an idea for a funny movie? #Trump #GOP https:/…\n",
      "RT @immigrant4trump: @immigrant4trump msm, cable news attacking trump all day, from 8am to 10pm today, then the reruns come on, repeating t…\n",
      "RT @immigrant4trump: @immigrant4trump msm, cable news attacking trump all day, from 8am to 10pm today, then the reruns come on, repeating t…\n",
      "RT @GlendaJazzey: Donald Trump’s Campaign Financing Dodge, @rrotunda https://t.co/L8flI4lswG via @VerdictJustia\n",
      "RT @TUSK81: LOUDER FOR THE PEOPLE IN THE BACK https://t.co/hlPVyNLXzx\n",
      "RT @loopzoop: Well...put it back https://t.co/8Yb7BDT5VM\n",
      "RT @claytoncubitt: Stop asking Bernie supporters if they’ll vote for Hillary against Trump. We got a plan to beat Trump already. Called Ber…\n",
      "RT @akaMaude13: Seriously can't make this up. What a joke. #NeverTrump  https://t.co/JkTx6mdRgC\n"
     ]
    }
   ],
   "source": [
    "# Select retweets from the Twitter DataFrame: result\n",
    "result = filter(lambda x: x[0:2] == 'RT', tweets_df['text'])\n",
    "\n",
    "# Create list from filter object result: res_list\n",
    "res_list = list(result)\n",
    "\n",
    "# Print all retweets in res_list\n",
    "for tweet in res_list:\n",
    "    print(tweet)"
   ]
  },
  {
   "cell_type": "markdown",
   "id": "44c8cdc3",
   "metadata": {},
   "source": [
    "## 3.13 Bringing it all together (2)\n",
    "\n",
    "Sometimes, we make mistakes when calling functions - even ones *you* made yourself. But don't fret! In this exercise, you will improve on your previous work with the `count_entries()` function in the last chapter by adding a `try-except` block to it. This will allow your function to provide a helpful message when the user calls your `count_entries()` function but provides a column name that isn't in the DataFrame.\n",
    "\n",
    "Once again, for your convenience, `pandas` has been imported as `pd` and the `'tweets.csv'` file has been imported into the DataFrame `tweets_df`. Parts of the code from your previous work are also provided."
   ]
  },
  {
   "cell_type": "markdown",
   "id": "ffb3f6a3",
   "metadata": {},
   "source": [
    "### 3.13.1 Instructions\n",
    "\n",
    "- Add a `try` block so that when the function is called with the correct arguments, it processes the DataFrame and returns a dictionary of results.\n",
    "- Add an `except` block so that when the function is called incorrectly, it displays the following error message: `'The DataFrame does not have a ' + col_name + ' column.'`."
   ]
  },
  {
   "cell_type": "code",
   "execution_count": 28,
   "id": "73d970df",
   "metadata": {},
   "outputs": [
    {
     "name": "stdout",
     "output_type": "stream",
     "text": [
      "{'en': 97, 'et': 1, 'und': 2}\n"
     ]
    }
   ],
   "source": [
    "# Define count_entries()\n",
    "def count_entries(df, col_name='lang'):\n",
    "    \"\"\"Return a dictionary with counts of\n",
    "    occurrences as value for each key.\"\"\"\n",
    "\n",
    "    # Initialize an empty dictionary: cols_count\n",
    "    cols_count = {}\n",
    "\n",
    "    # Add try block\n",
    "    try:\n",
    "        # Extract column from DataFrame: col\n",
    "        col = df[col_name]\n",
    "        \n",
    "        # Iterate over the column in DataFrame\n",
    "        for entry in col:\n",
    "    \n",
    "            # If entry is in cols_count, add 1\n",
    "            if entry in cols_count.keys():\n",
    "                cols_count[entry] += 1\n",
    "            # Else add the entry to cols_count, set the value to 1\n",
    "            else:\n",
    "                cols_count[entry] = 1\n",
    "    \n",
    "        # Return the cols_count dictionary\n",
    "        return cols_count\n",
    "\n",
    "    # Add except block\n",
    "    except:\n",
    "        print('The DataFrame does not have a ' + col_name + ' column.')\n",
    "\n",
    "# Call count_entries(): result1\n",
    "result1 = count_entries(tweets_df, 'lang')\n",
    "\n",
    "# Print result1\n",
    "print(result1)"
   ]
  },
  {
   "cell_type": "markdown",
   "id": "74ea0ba6",
   "metadata": {},
   "source": [
    "## 3.14 Bringing it all together (3)\n",
    "\n",
    "In the previous exercise, you built on your function `count_entries()` to add a `try-except` block. This was so that users would get helpful messages when calling your `count_entries()` function and providing a column name that isn't in the DataFrame. In this exercise, you'll instead raise a `ValueError` in the case that the user provides a column name that isn't in the DataFrame.\n",
    "\n",
    "Once again, for your convenience, `pandas` has been imported as `pd` and the `'tweets.csv'` file has been imported into the DataFrame `tweets_df`. Parts of the code from your previous work are also provided."
   ]
  },
  {
   "cell_type": "markdown",
   "id": "b2bc8031",
   "metadata": {},
   "source": [
    "### 3.14.1 Instructions\n",
    "\n",
    "- If `col_name` is *not* a column in the DataFrame `df`, raise a `ValueError 'The DataFrame does not have a ' + col_name + ' column.'`.\n",
    "- Call your new function `count_entries()` to analyze the `'lang'` column of `tweets_df`. Store the result in `result1`.\n",
    "- Print `result1`. This has been done for you, so hit 'Submit Answer' to check out the result. In the next exercise, you'll see that it raises the necessary `ValueErrors`."
   ]
  },
  {
   "cell_type": "code",
   "execution_count": 29,
   "id": "36de6eb9",
   "metadata": {},
   "outputs": [
    {
     "name": "stdout",
     "output_type": "stream",
     "text": [
      "{'en': 97, 'et': 1, 'und': 2}\n"
     ]
    }
   ],
   "source": [
    "# Define count_entries()\n",
    "def count_entries(df, col_name='lang'):\n",
    "    \"\"\"Return a dictionary with counts of\n",
    "    occurrences as value for each key.\"\"\"\n",
    "    \n",
    "    # Raise a ValueError if col_name is NOT in DataFrame\n",
    "    if col_name not in df.columns:\n",
    "        raise ValueError('The DataFrame does not have a ' + col_name + ' column.')\n",
    "\n",
    "    # Initialize an empty dictionary: cols_count\n",
    "    cols_count = {}\n",
    "    \n",
    "    # Extract column from DataFrame: col\n",
    "    col = df[col_name]\n",
    "    \n",
    "    # Iterate over the column in DataFrame\n",
    "    for entry in col:\n",
    "\n",
    "        # If entry is in cols_count, add 1\n",
    "        if entry in cols_count.keys():\n",
    "            cols_count[entry] += 1\n",
    "            # Else add the entry to cols_count, set the value to 1\n",
    "        else:\n",
    "            cols_count[entry] = 1\n",
    "        \n",
    "        # Return the cols_count dictionary\n",
    "    return cols_count\n",
    "\n",
    "# Call count_entries(): result1\n",
    "result1 = count_entries(tweets_df, 'lang')\n",
    "\n",
    "# Print result1\n",
    "print(result1)"
   ]
  },
  {
   "cell_type": "markdown",
   "id": "d38aa036",
   "metadata": {},
   "source": [
    "## 3.15 Bringing it all together: testing your error handling skills\n",
    "\n",
    "You have just written error handling into your `count_entries()` function so that, when the user passes the function a column (as 2nd argument) NOT contained in the DataFrame (1st argument), a `ValueError` is thrown. You're now going to play with this function: it is loaded into pre-exercise code, as is the DataFrame `tweets_df`. Try calling `count_entries(tweets_df, 'lang')` to confirm that the function behaves as it should. Then call `count_entries(tweets_df, 'lang1')`: what is the last line of the output?"
   ]
  },
  {
   "cell_type": "markdown",
   "id": "8ae0120d",
   "metadata": {},
   "source": [
    "### 3.15.1 Instructions\n",
    "\n",
    "### Possible Answers\n",
    "\n",
    "- [ ] 'ValueError: The DataFrame does not have the requested column.'\n",
    "\n",
    "- [x] 'ValueError: The DataFrame does not have a lang1 column.'\n",
    "\n",
    "- [ ] 'TypeError: The DataFrame does not have the requested column.'"
   ]
  },
  {
   "cell_type": "markdown",
   "id": "1327f626",
   "metadata": {},
   "source": [
    "## 3.16 Congratulations!"
   ]
  }
 ],
 "metadata": {
  "kernelspec": {
   "display_name": "Python 3 (ipykernel)",
   "language": "python",
   "name": "python3"
  },
  "language_info": {
   "codemirror_mode": {
    "name": "ipython",
    "version": 3
   },
   "file_extension": ".py",
   "mimetype": "text/x-python",
   "name": "python",
   "nbconvert_exporter": "python",
   "pygments_lexer": "ipython3",
   "version": "3.9.15"
  }
 },
 "nbformat": 4,
 "nbformat_minor": 5
}
